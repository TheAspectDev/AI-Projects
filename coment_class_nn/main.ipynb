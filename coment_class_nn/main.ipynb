{
 "cells": [
  {
   "cell_type": "code",
   "execution_count": 2,
   "metadata": {},
   "outputs": [],
   "source": [
    "import tensorflow as tf\n",
    "import pandas as pd\n",
    "from sklearn.model_selection import train_test_split\n",
    "from keras.layers import TextVectorization\n",
    "import numpy as np\n",
    "\n",
    "data = pd.read_csv('reviews.csv') # 41319 value, max_length = 4542\n",
    "x = data['content'].astype(str)\n",
    "y = data['score']\n",
    "y = np.array((int(float(rating)) if rating > 5 else 5) for rating in y)\n",
    "\n",
    "data = data.dropna(subset=['score'])   \n",
    "\n",
    "x = data['content'].astype(str)\n",
    "y = data['score'].astype(int)\n",
    "\n",
    "x_train, x_test, y_train, y_test = train_test_split(x, y, test_size=0.1, random_state=42)\n",
    "\n",
    "vectorize_layer = TextVectorization(\n",
    "    max_tokens=450,\n",
    "    output_mode='int',\n",
    "    output_sequence_length=350\n",
    ")\n",
    "\n",
    "vectorize_layer.adapt(x)\n",
    "\n",
    "x_train_vectorized = vectorize_layer(x_train)\n",
    "x_test_vectorized = vectorize_layer(x_test)\n",
    "\n",
    "model = tf.keras.models.Sequential()\n",
    "model.add(tf.keras.layers.Input(shape=(350,)))\n",
    "model.add(tf.keras.layers.Embedding(input_dim=450, output_dim=64, name=\"embedding\"))\n",
    "model.add(tf.keras.layers.SimpleRNN(64))\n",
    "model.add(tf.keras.layers.Dense(6))\n",
    "\n",
    "model.compile(loss=tf.keras.losses.SparseCategoricalCrossentropy(from_logits=True),\n",
    "            optimizer='adam', metrics=['accuracy'])"
   ]
  },
  {
   "cell_type": "code",
   "execution_count": 3,
   "metadata": {},
   "outputs": [
    {
     "name": "stdout",
     "output_type": "stream",
     "text": [
      "Epoch 1/2\n",
      "\u001b[1m282/282\u001b[0m \u001b[32m━━━━━━━━━━━━━━━━━━━━\u001b[0m\u001b[37m\u001b[0m \u001b[1m10s\u001b[0m 32ms/step - accuracy: 0.7460 - loss: 0.9136 - val_accuracy: 0.7710 - val_loss: 0.8105\n",
      "Epoch 2/2\n",
      "\u001b[1m282/282\u001b[0m \u001b[32m━━━━━━━━━━━━━━━━━━━━\u001b[0m\u001b[37m\u001b[0m \u001b[1m9s\u001b[0m 31ms/step - accuracy: 0.7613 - loss: 0.8428 - val_accuracy: 0.7710 - val_loss: 0.8082\n",
      "\u001b[1m32/32\u001b[0m \u001b[32m━━━━━━━━━━━━━━━━━━━━\u001b[0m\u001b[37m\u001b[0m \u001b[1m0s\u001b[0m 8ms/step - accuracy: 0.7808 - loss: 0.7860\n",
      "Test loss: 0.808241069316864\n",
      "Test accuracy: 0.7710000276565552\n"
     ]
    }
   ],
   "source": [
    "model.fit(x_train_vectorized, y_train, epochs=2, validation_data=(x_test_vectorized, y_test))\n",
    "loss, accuracy = model.evaluate(x_test_vectorized, y_test)\n",
    "\n",
    "print(f'Test loss: {loss}')\n",
    "print(f'Test accuracy: {accuracy}')"
   ]
  },
  {
   "cell_type": "code",
   "execution_count": 3,
   "metadata": {},
   "outputs": [],
   "source": [
    "from keras_visualizer import visualizer\n",
    "\n",
    "visualizer(model=model, file_name=\"pedaret.png\", file_format=\"png\")"
   ]
  },
  {
   "cell_type": "code",
   "execution_count": 4,
   "metadata": {},
   "outputs": [
    {
     "name": "stdout",
     "output_type": "stream",
     "text": [
      "\u001b[1m1/1\u001b[0m \u001b[32m━━━━━━━━━━━━━━━━━━━━\u001b[0m\u001b[37m\u001b[0m \u001b[1m0s\u001b[0m 114ms/step\n",
      "[[-4.9715295e+00  3.0218145e-01 -9.8412442e-01  4.1612689e-03\n",
      "   1.0090548e+00  3.0174694e+00]\n",
      " [-4.9715290e+00  3.0218151e-01 -9.8412478e-01  4.1612708e-03\n",
      "   1.0090549e+00  3.0174694e+00]\n",
      " [-4.9715295e+00  3.0218151e-01 -9.8412454e-01  4.1612876e-03\n",
      "   1.0090549e+00  3.0174694e+00]\n",
      " [-4.9715300e+00  3.0218157e-01 -9.8412478e-01  4.1613304e-03\n",
      "   1.0090549e+00  3.0174694e+00]]\n"
     ]
    }
   ],
   "source": [
    "data = np.array(vectorize_layer([\n",
    "    'good'\n",
    "]))\n",
    "data = model.predict(data)\n",
    "print(data)"
   ]
  }
 ],
 "metadata": {
  "kernelspec": {
   "display_name": "Python 3",
   "language": "python",
   "name": "python3"
  },
  "language_info": {
   "codemirror_mode": {
    "name": "ipython",
    "version": 3
   },
   "file_extension": ".py",
   "mimetype": "text/x-python",
   "name": "python",
   "nbconvert_exporter": "python",
   "pygments_lexer": "ipython3",
   "version": "3.11.7"
  }
 },
 "nbformat": 4,
 "nbformat_minor": 2
}
